{
  "nbformat": 4,
  "nbformat_minor": 0,
  "metadata": {
    "colab": {
      "name": "Ejercicio_7",
      "provenance": [],
      "collapsed_sections": []
    },
    "kernelspec": {
      "name": "python3",
      "display_name": "Python 3"
    }
  },
  "cells": [
    {
      "cell_type": "code",
      "metadata": {
        "id": "A0kggYseX_da",
        "colab_type": "code",
        "colab": {
          "base_uri": "https://localhost:8080/",
          "height": 644
        },
        "outputId": "7b9d07b5-f0ed-4644-dece-08701bd93a7c"
      },
      "source": [
        "import numpy as np\n",
        "from scipy.optimize import linprog\n",
        "\n",
        "def nn2na(NN):\n",
        "    # Get every location where exist an arc:\n",
        "    idxs = np.argwhere(NN)\n",
        "    # Preallocate NA matrix, dimension is (nodes, arcs)\n",
        "    NA = np.zeros([NN.shape[0], idxs.shape[0]]).astype(int)\n",
        "    C = np.zeros(NA.shape[1])\n",
        "    # Loop in every arc, complete from (1) to (-1)\n",
        "    for i, arc in enumerate(idxs):\n",
        "        # Node arc:\n",
        "        NA[arc[0], i] = 1 # From\n",
        "        NA[arc[1], i] = -1 # To\n",
        "\n",
        "    arc_idxs = [(arc[0], arc[1]) for arc in idxs]\n",
        "\n",
        "    return NA, arc_idxs\n",
        "\n",
        "\n",
        "#importing the data - NN matrix\n",
        "\n",
        "NN = np.array([[ 0, 1, 1, 1, 1, 1, 1, 0, 0, 0, 0, 0, 0, 0, 0, 0, 0, 0, 0, 0, 0, 0, 0, 0, 0, 0],     \n",
        "               [ 0, 0, 0, 0, 0, 0, 0, 0, 1, 0, 0, 0, 0, 0, 0, 0, 1, 0, 0, 0, 0, 0, 0, 0, 0, 0],     \n",
        "               [ 0, 0, 0, 0, 0, 0, 0, 0, 0, 1, 0, 0, 0, 0, 0, 0, 0, 1, 0, 0, 0, 0, 0, 0, 0, 0],     \n",
        "               [ 0, 0, 0, 0, 0, 0, 0, 0, 0, 0, 1, 0, 0, 0, 0, 0, 0, 0, 1, 0, 0, 0, 0, 0, 0, 0],    \n",
        "               [ 0, 0, 0, 0, 0, 0, 0, 0, 0, 0, 0, 1, 0, 0, 0, 0, 0, 0, 0, 0, 0, 0, 0, 0, 0, 0],    \n",
        "               [ 0, 0, 0, 0, 0, 0, 0, 0, 0, 0, 0, 0, 1, 0, 0, 0, 0, 0, 0, 0, 0, 0, 0, 0, 0, 0],    \n",
        "               [ 0, 0, 0, 0, 0, 0, 0, 0, 0, 0, 0, 0, 0, 0, 0, 0, 0, 0, 0, 0, 0, 0, 0, 0, 0, 0],    \n",
        "               [ 0, 0, 0, 0, 0, 0, 0, 0, 0, 0, 0, 0, 0, 0, 0, 0, 0, 0, 0, 0, 0, 0, 0, 0, 0, 0],    \n",
        "               [ 0, 0, 0, 0, 0, 0, 0, 0, 0, 0, 0, 0, 0, 0, 0, 0, 1, 0, 0, 0, 0, 1, 0, 0, 0, 0],    \n",
        "               [ 0, 0, 0, 0, 0, 0, 0, 0, 0, 0, 0, 0, 0, 0, 0, 0, 0, 1, 0, 0, 0, 0, 1, 0, 0, 0],     \n",
        "               [ 0, 0, 0, 0, 0, 0, 0, 0, 0, 0, 0, 0, 0, 0, 0, 0, 0, 0, 1, 0, 0, 0, 0, 1, 0, 0],    \n",
        "               [ 0, 0, 0, 0, 0, 0, 0, 0, 0, 0, 0, 0, 0, 0, 0, 0, 0, 0, 0, 0, 0, 0, 0, 0, 1, 0],    \n",
        "               [ 0, 0, 0, 0, 0, 0, 0, 0, 0, 0, 0, 0, 0, 0, 0, 0, 0, 0, 0, 0, 0, 0, 0, 0, 0, 0],    \n",
        "               [ 0, 0, 0, 0, 0, 0, 0, 0, 0, 0, 0, 0, 0, 0, 0, 0, 0, 0, 0, 0, 0, 0, 0, 0, 0, 0],     \n",
        "               [ 0, 0, 0, 0, 0, 0, 0, 0, 0, 0, 0, 0, 0, 0, 0, 0, 0, 0, 0, 0, 0, 0, 0, 0, 0, 0],    \n",
        "               [ 0, 0, 0, 0, 0, 0, 0, 0, 0, 0, 0, 0, 0, 0, 0, 0, 0, 0, 0, 0, 0, 0, 0, 0, 0, 0],    \n",
        "               [ 0, 0, 0, 0, 0, 0, 0, 0, 0, 0, 0, 0, 0, 0, 0, 0, 0, 0, 0, 0, 0, 0, 0, 1, 0, 0],    \n",
        "               [ 0, 0, 0, 0, 0, 0, 0, 0, 0, 0, 0, 0, 0, 0, 0, 0, 0, 0, 0, 0, 0, 0, 0, 0, 1, 0],    \n",
        "               [ 0, 0, 0, 0, 0, 0, 0, 0, 0, 0, 0, 0, 0, 0, 0, 0, 0, 0, 0, 0, 0, 0, 0, 0, 0, 0],    \n",
        "               [ 0, 0, 0, 0, 0, 0, 0, 0, 0, 0, 0, 0, 0, 0, 0, 0, 0, 0, 0, 0, 0, 0, 0, 0, 0, 1],    \n",
        "               [ 0, 0, 0, 0, 0, 0, 0, 0, 0, 0, 0, 0, 0, 0, 0, 0, 0, 0, 0, 0, 0, 0, 0, 0, 0, 1],    \n",
        "               [ 0, 0, 0, 0, 0, 0, 0, 0, 0, 0, 0, 0, 0, 0, 0, 0, 0, 0, 0, 0, 0, 0, 0, 0, 0, 1],    \n",
        "               [ 0, 0, 0, 0, 0, 0, 0, 0, 0, 0, 0, 0, 0, 0, 0, 0, 0, 0, 0, 0, 0, 0, 0, 0, 0, 1],    \n",
        "               [ 0, 0, 0, 0, 0, 0, 0, 0, 0, 0, 0, 0, 0, 0, 0, 0, 0, 0, 0, 0, 0, 0, 0, 0, 0, 1],    \n",
        "               [ 0, 0, 0, 0, 0, 0, 0, 0, 0, 0, 0, 0, 0, 0, 0, 0, 0, 0, 0, 0, 0, 0, 0, 0, 0, 1],    \n",
        "               [ 1, 0, 0, 0, 0, 0, 0, 0, 0, 0, 0, 0, 0, 0, 0, 0, 0, 0, 0, 0, 0, 0, 0, 0, 0, 0]])    \n",
        "\n",
        "#formulatation of the LP\n",
        "Aeq, arcs = nn2na(NN)\n",
        "C = np.zeros(len(arcs))\n",
        "C[-1]=-1\n",
        "beq = np.zeros(26)\n",
        "\n",
        "u_bound=[None, None, None, None, None, None, 5, 10, 5, 10, 5, 10, 5, 5, 6, 3, 6, 3, 6, 3, 3, 3, 3, None, None, None, None, None, None, None]\n",
        "bounds = tuple([(0, u_bound[arc]) for arc in range(0, Aeq.shape[1])])\n",
        "   \n",
        "#optimization:\n",
        "res = linprog(C, A_eq=Aeq, b_eq=beq, bounds=bounds, method='Simplex')\n",
        "\n",
        "#printing the solution:\n",
        "print(\"\\nQuantities sent through each arc: \")\n",
        "for i in range(len(res.x)):\n",
        "    print(arcs[i], \"->\", res.x[i].astype(int))\n",
        "print(\"\\nMaximum Flow: \", res.fun*-1)"
      ],
      "execution_count": 13,
      "outputs": [
        {
          "output_type": "stream",
          "text": [
            "\n",
            "Quantities sent through each arc: \n",
            "(0, 1) -> 6\n",
            "(0, 2) -> 6\n",
            "(0, 3) -> 3\n",
            "(0, 4) -> 3\n",
            "(0, 5) -> 0\n",
            "(0, 6) -> 0\n",
            "(1, 8) -> 5\n",
            "(1, 16) -> 1\n",
            "(2, 9) -> 5\n",
            "(2, 17) -> 1\n",
            "(3, 10) -> 3\n",
            "(3, 18) -> 0\n",
            "(4, 11) -> 3\n",
            "(5, 12) -> 0\n",
            "(8, 16) -> 2\n",
            "(8, 21) -> 3\n",
            "(9, 17) -> 2\n",
            "(9, 22) -> 3\n",
            "(10, 18) -> 0\n",
            "(10, 23) -> 3\n",
            "(11, 24) -> 3\n",
            "(16, 23) -> 3\n",
            "(17, 24) -> 3\n",
            "(19, 25) -> 0\n",
            "(20, 25) -> 0\n",
            "(21, 25) -> 3\n",
            "(22, 25) -> 3\n",
            "(23, 25) -> 6\n",
            "(24, 25) -> 6\n",
            "(25, 0) -> 18\n",
            "\n",
            "Maximum Flow:  18.0\n"
          ],
          "name": "stdout"
        },
        {
          "output_type": "stream",
          "text": [
            "/usr/local/lib/python3.6/dist-packages/ipykernel_launcher.py:63: OptimizeWarning: A_eq does not appear to be of full row rank. To improve performance, check the problem formulation for redundant equality constraints.\n"
          ],
          "name": "stderr"
        }
      ]
    }
  ]
}